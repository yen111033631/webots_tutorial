{
 "cells": [
  {
   "cell_type": "code",
   "execution_count": 19,
   "metadata": {},
   "outputs": [
    {
     "data": {
      "text/plain": [
       "'Mar20_H16_M06_S25'"
      ]
     },
     "execution_count": 19,
     "metadata": {},
     "output_type": "execute_result"
    }
   ],
   "source": [
    "from datetime import datetime\n",
    "\n",
    "# 獲取當前時間\n",
    "current_time = datetime.now().strftime(\"%b%d_H%H_M%M_S%S\")\n",
    "current_time"
   ]
  },
  {
   "cell_type": "code",
   "execution_count": 63,
   "metadata": {},
   "outputs": [],
   "source": [
    "a = vars()"
   ]
  },
  {
   "cell_type": "code",
   "execution_count": 65,
   "metadata": {},
   "outputs": [
    {
     "data": {
      "text/plain": [
       "True"
      ]
     },
     "execution_count": 65,
     "metadata": {},
     "output_type": "execute_result"
    }
   ],
   "source": [
    "\"x\" in a"
   ]
  },
  {
   "cell_type": "code",
   "execution_count": 66,
   "metadata": {},
   "outputs": [
    {
     "name": "stdout",
     "output_type": "stream",
     "text": [
      "False\n",
      "False\n",
      "False\n"
     ]
    }
   ],
   "source": [
    "# 檢查變數是否已經宣告\n",
    "def is_variable_declared(var_name):\n",
    "    try:\n",
    "        # 使用 vars() 函式查看當前作用域中的所有變數\n",
    "        variables = vars()\n",
    "        return var_name in variables\n",
    "    except NameError:\n",
    "        return False\n",
    "\n",
    "# 測試範例\n",
    "x = 10\n",
    "y = 20\n",
    "\n",
    "print(is_variable_declared('x'))  # 輸出 True，因為變數 x 已經宣告\n",
    "print(is_variable_declared('y'))  # 輸出 True，因為變數 y 已經宣告\n",
    "print(is_variable_declared('z'))  # 輸出 False，因為變數 z 尚未宣告\n"
   ]
  },
  {
   "cell_type": "code",
   "execution_count": null,
   "metadata": {},
   "outputs": [],
   "source": [
    "0.33, 0.6, 0.09\n",
    "-0.16, 0.6, 0.09\n",
    "0.33, -0.6, 0.09\n",
    "\n",
    "-0.16, 0.27, 0.09\n",
    "0.24, -0.25, 0.09"
   ]
  },
  {
   "cell_type": "code",
   "execution_count": 9,
   "metadata": {},
   "outputs": [
    {
     "name": "stdout",
     "output_type": "stream",
     "text": [
      "4\n",
      "2\n",
      "24\n",
      "4\n",
      "20\n",
      "0\n",
      "-7\n",
      "12\n",
      "13\n",
      "-6\n",
      "-8\n",
      "16\n",
      "20\n",
      "13\n",
      "14\n",
      "19\n",
      "27\n",
      "15\n",
      "-9\n",
      "-8\n",
      "25\n",
      "5\n",
      "-12\n",
      "-5\n",
      "26\n",
      "-13\n",
      "16\n",
      "-2\n",
      "21\n",
      "3\n",
      "-7\n",
      "28\n",
      "14\n",
      "13\n",
      "9\n",
      "5\n",
      "17\n",
      "10\n",
      "0\n",
      "-14\n",
      "-7\n",
      "19\n",
      "-12\n",
      "-8\n",
      "10\n",
      "-6\n",
      "9\n",
      "31\n",
      "17\n",
      "18\n",
      "-10\n",
      "26\n",
      "12\n",
      "-6\n",
      "23\n",
      "2\n",
      "18\n",
      "32\n",
      "30\n",
      "19\n",
      "-5\n",
      "-10\n",
      "23\n",
      "23\n",
      "-16\n",
      "-14\n",
      "-2\n",
      "14\n",
      "24\n",
      "5\n",
      "-14\n",
      "27\n",
      "-5\n",
      "-8\n",
      "-2\n",
      "29\n",
      "19\n",
      "7\n",
      "19\n",
      "-14\n",
      "3\n",
      "-6\n",
      "24\n",
      "20\n",
      "-8\n",
      "22\n",
      "10\n",
      "13\n",
      "15\n",
      "-5\n",
      "-11\n",
      "30\n",
      "13\n",
      "17\n",
      "-16\n",
      "-7\n",
      "-5\n",
      "6\n",
      "13\n",
      "-6\n"
     ]
    }
   ],
   "source": [
    "import random\n",
    "\n",
    "x_range = [-0.16, 0.33]\n",
    "# x_range = [-16, 33]\n",
    "y_range = [-0.6, 0.6]\n",
    "\n",
    "x_notgood_range = [-0.16, 0.24]\n",
    "y_notgood_range = [-0.27, 0.27]\n",
    "\n",
    "for i in range(100):\n",
    "    # x_range * 100, then random\n",
    "    x_coor = random.randint(*[x * 100 for x in x_range])\n",
    "    x_coor = random.randint(*[x * 100 for x in x_range])\n",
    "    print(x_coor)\n"
   ]
  },
  {
   "cell_type": "code",
   "execution_count": 16,
   "metadata": {},
   "outputs": [
    {
     "name": "stdout",
     "output_type": "stream",
     "text": [
      "0.15 0.5100000000000001\n"
     ]
    },
    {
     "data": {
      "text/plain": [
       "-0.16"
      ]
     },
     "execution_count": 16,
     "metadata": {},
     "output_type": "execute_result"
    }
   ],
   "source": [
    "import random\n",
    "\n",
    "# 指定範圍和間隔\n",
    "x_min, x_max = -0.16, 0.33\n",
    "y_min, y_max = -0.6, 0.6\n",
    "interval = 0.01\n",
    "\n",
    "# 計算可能的值數量\n",
    "x_num_values = int((x_max - x_min) / interval) + 1\n",
    "y_num_values = int((y_max - y_min) / interval) + 1\n",
    "\n",
    "\n",
    "x_list = [x_min + i * interval for i in range(x_num_values)]\n",
    "# 抽取隨機數\n",
    "x_coor = random.choice([x_min + i * interval for i in range(x_num_values)])\n",
    "y_coor = random.choice([y_min + i * interval for i in range(y_num_values)])\n",
    "\n",
    "print(x_coor, y_coor)\n",
    "[x_min + i * interval for i in range(x_num_values)]\n",
    "x_min + interval *2"
   ]
  },
  {
   "cell_type": "code",
   "execution_count": 59,
   "metadata": {},
   "outputs": [
    {
     "name": "stdout",
     "output_type": "stream",
     "text": [
      "0.22 -0.09\n",
      "random again\n",
      "0.12 -0.46\n"
     ]
    }
   ],
   "source": [
    "import numpy as np\n",
    "\n",
    "np.random.seed(42)\n",
    "# 指定範圍和間隔\n",
    "x_min, x_max = -0.16, 0.33\n",
    "y_min, y_max = -0.6, 0.6\n",
    "interval = 0.01\n",
    "\n",
    "x_min_notgood, x_max_notgood = -0.16, 0.24\n",
    "y_min_notgood, y_max_notgood = -0.27, 0.27\n",
    "\n",
    "# 生成抽樣點\n",
    "x_values = np.round(np.arange(x_min, x_max + interval, interval), 2)\n",
    "y_values = np.round(np.arange(y_min, y_max + interval, interval), 2)\n",
    "\n",
    "\n",
    "while True:\n",
    "    # 隨機抽取一個值\n",
    "    x_coor = np.random.choice(x_values)\n",
    "    y_coor = np.random.choice(y_values)\n",
    "    \n",
    "    # check boundary\n",
    "    if (x_min_notgood <= x_coor <= x_max_notgood) and (y_min_notgood <= y_coor <= y_max_notgood):\n",
    "        print(x_coor, y_coor)\n",
    "        print(\"random again\")\n",
    "    else:\n",
    "        break\n",
    "\n",
    "print(x_coor, y_coor)\n"
   ]
  },
  {
   "cell_type": "code",
   "execution_count": 41,
   "metadata": {},
   "outputs": [
    {
     "name": "stdout",
     "output_type": "stream",
     "text": [
      "0\n",
      "1\n",
      "2\n",
      "3\n",
      "4\n",
      "5\n",
      "6\n",
      "7\n",
      "8\n",
      "9\n",
      "10\n"
     ]
    }
   ],
   "source": [
    "i = 0\n",
    "while True:\n",
    "    print(i)\n",
    "    if i == 10:\n",
    "        break\n",
    "    \n",
    "    i += 1"
   ]
  },
  {
   "cell_type": "code",
   "execution_count": 39,
   "metadata": {},
   "outputs": [
    {
     "data": {
      "text/plain": [
       "(0.07, 0.36)"
      ]
     },
     "execution_count": 39,
     "metadata": {},
     "output_type": "execute_result"
    }
   ],
   "source": [
    "x_coor, y_coor"
   ]
  },
  {
   "cell_type": "code",
   "execution_count": 32,
   "metadata": {},
   "outputs": [],
   "source": [
    "x_min_notgood, x_max_notgood = -0.16, 0.24\n",
    "y_min_notgood, y_max_notgood = -0.27, 0.27\n"
   ]
  },
  {
   "cell_type": "code",
   "execution_count": 33,
   "metadata": {},
   "outputs": [],
   "source": [
    "if (x_min_notgood <= x_coor <= x_max_notgood) and (y_min_notgood <= y_coor <= y_max_notgood):\n",
    "    print(\"G\")"
   ]
  },
  {
   "cell_type": "code",
   "execution_count": 4,
   "metadata": {},
   "outputs": [
    {
     "name": "stdout",
     "output_type": "stream",
     "text": [
      "現在的月份是：Mar\n"
     ]
    }
   ],
   "source": [
    "import datetime\n",
    "\n",
    "# 取得當前的日期和時間\n",
    "now = datetime.datetime.now()\n",
    "\n",
    "# 取得月份的英文縮寫表示\n",
    "month_abbr = now.strftime('%b')\n",
    "\n",
    "print(f'現在的月份是：{month_abbr}')\n"
   ]
  },
  {
   "cell_type": "code",
   "execution_count": 17,
   "metadata": {},
   "outputs": [
    {
     "name": "stdout",
     "output_type": "stream",
     "text": [
      "['Temporal Difference Loss', 'Mean Reward', 'Epsilon', 'Mean Durations']\n"
     ]
    },
    {
     "name": "stderr",
     "output_type": "stream",
     "text": [
      "100%|██████████| 4/4 [00:00<00:00, 61.18it/s]\n"
     ]
    }
   ],
   "source": [
    "from tensorboard.backend.event_processing import event_accumulator\n",
    "import pandas as pd\n",
    "from tqdm import tqdm\n",
    "import os\n",
    "\n",
    "# 指定要读取的事件文件路径\n",
    "logdir = '/c/Users/yen/code/from_wsl/webots_arm/integration/controllers/train_RL_env/runs/Mar18_11-47-17_SuperWhite3080_arm/events.out.tfevents.1710733637.SuperWhite3080.18304.0'\n",
    "\n",
    "export_dir = f\"{os.path.dirname(logdir)}/training_result.csv\"\n",
    "# 创建 SummaryReader 对象，指定事件文件路径\n",
    "event_data = event_accumulator.EventAccumulator(logdir)\n",
    "\n",
    "event_data.Reload()\n",
    "\n",
    "keys = event_data.scalars.Keys()\n",
    "print(keys)\n",
    "\n",
    "df = pd.DataFrame(columns=keys)\n",
    "\n",
    "for key in tqdm(keys):\n",
    "    df[key] = pd.DataFrame(event_data.Scalars(key)).value\n",
    "         \n",
    "df.to_csv(export_dir)\n"
   ]
  },
  {
   "cell_type": "code",
   "execution_count": 14,
   "metadata": {},
   "outputs": [
    {
     "name": "stderr",
     "output_type": "stream",
     "text": [
      "100%|██████████| 4/4 [00:00<00:00, 60.38it/s]\n"
     ]
    }
   ],
   "source": [
    "df = pd.DataFrame(columns=keys)\n",
    "\n",
    "for key in tqdm(keys):\n",
    "    df[key] = pd.DataFrame(event_data.Scalars(key)).value\n"
   ]
  },
  {
   "cell_type": "code",
   "execution_count": 15,
   "metadata": {},
   "outputs": [
    {
     "data": {
      "text/html": [
       "<div>\n",
       "<style scoped>\n",
       "    .dataframe tbody tr th:only-of-type {\n",
       "        vertical-align: middle;\n",
       "    }\n",
       "\n",
       "    .dataframe tbody tr th {\n",
       "        vertical-align: top;\n",
       "    }\n",
       "\n",
       "    .dataframe thead th {\n",
       "        text-align: right;\n",
       "    }\n",
       "</style>\n",
       "<table border=\"1\" class=\"dataframe\">\n",
       "  <thead>\n",
       "    <tr style=\"text-align: right;\">\n",
       "      <th></th>\n",
       "      <th>Temporal Difference Loss</th>\n",
       "      <th>Mean Reward</th>\n",
       "      <th>Epsilon</th>\n",
       "      <th>Mean Durations</th>\n",
       "    </tr>\n",
       "  </thead>\n",
       "  <tbody>\n",
       "    <tr>\n",
       "      <th>0</th>\n",
       "      <td>0.000000</td>\n",
       "      <td>-607.364197</td>\n",
       "      <td>0.899579</td>\n",
       "      <td>16.200001</td>\n",
       "    </tr>\n",
       "    <tr>\n",
       "      <th>1</th>\n",
       "      <td>15.899516</td>\n",
       "      <td>-633.516418</td>\n",
       "      <td>0.899155</td>\n",
       "      <td>17.799999</td>\n",
       "    </tr>\n",
       "    <tr>\n",
       "      <th>2</th>\n",
       "      <td>23.516779</td>\n",
       "      <td>-588.451477</td>\n",
       "      <td>0.898730</td>\n",
       "      <td>15.800000</td>\n",
       "    </tr>\n",
       "    <tr>\n",
       "      <th>3</th>\n",
       "      <td>27.245363</td>\n",
       "      <td>-531.200256</td>\n",
       "      <td>0.898306</td>\n",
       "      <td>4.600000</td>\n",
       "    </tr>\n",
       "    <tr>\n",
       "      <th>4</th>\n",
       "      <td>30.757950</td>\n",
       "      <td>-613.241577</td>\n",
       "      <td>0.897882</td>\n",
       "      <td>16.799999</td>\n",
       "    </tr>\n",
       "    <tr>\n",
       "      <th>...</th>\n",
       "      <td>...</td>\n",
       "      <td>...</td>\n",
       "      <td>...</td>\n",
       "      <td>...</td>\n",
       "    </tr>\n",
       "    <tr>\n",
       "      <th>2411</th>\n",
       "      <td>2.003071</td>\n",
       "      <td>-507.238556</td>\n",
       "      <td>0.304485</td>\n",
       "      <td>1.200000</td>\n",
       "    </tr>\n",
       "    <tr>\n",
       "      <th>2412</th>\n",
       "      <td>4.265377</td>\n",
       "      <td>-513.645569</td>\n",
       "      <td>0.304358</td>\n",
       "      <td>2.400000</td>\n",
       "    </tr>\n",
       "    <tr>\n",
       "      <th>2413</th>\n",
       "      <td>1.234487</td>\n",
       "      <td>-507.496368</td>\n",
       "      <td>0.304231</td>\n",
       "      <td>1.200000</td>\n",
       "    </tr>\n",
       "    <tr>\n",
       "      <th>2414</th>\n",
       "      <td>1.866881</td>\n",
       "      <td>-506.092438</td>\n",
       "      <td>0.304103</td>\n",
       "      <td>1.000000</td>\n",
       "    </tr>\n",
       "    <tr>\n",
       "      <th>2415</th>\n",
       "      <td>4.407290</td>\n",
       "      <td>-509.476624</td>\n",
       "      <td>0.303976</td>\n",
       "      <td>1.600000</td>\n",
       "    </tr>\n",
       "  </tbody>\n",
       "</table>\n",
       "<p>2416 rows × 4 columns</p>\n",
       "</div>"
      ],
      "text/plain": [
       "      Temporal Difference Loss  Mean Reward   Epsilon  Mean Durations\n",
       "0                     0.000000  -607.364197  0.899579       16.200001\n",
       "1                    15.899516  -633.516418  0.899155       17.799999\n",
       "2                    23.516779  -588.451477  0.898730       15.800000\n",
       "3                    27.245363  -531.200256  0.898306        4.600000\n",
       "4                    30.757950  -613.241577  0.897882       16.799999\n",
       "...                        ...          ...       ...             ...\n",
       "2411                  2.003071  -507.238556  0.304485        1.200000\n",
       "2412                  4.265377  -513.645569  0.304358        2.400000\n",
       "2413                  1.234487  -507.496368  0.304231        1.200000\n",
       "2414                  1.866881  -506.092438  0.304103        1.000000\n",
       "2415                  4.407290  -509.476624  0.303976        1.600000\n",
       "\n",
       "[2416 rows x 4 columns]"
      ]
     },
     "execution_count": 15,
     "metadata": {},
     "output_type": "execute_result"
    }
   ],
   "source": [
    "df"
   ]
  },
  {
   "cell_type": "code",
   "execution_count": 13,
   "metadata": {},
   "outputs": [
    {
     "data": {
      "text/plain": [
       "0        0.000000\n",
       "1       15.899516\n",
       "2       23.516779\n",
       "3       27.245363\n",
       "4       30.757950\n",
       "          ...    \n",
       "2411     2.003071\n",
       "2412     4.265377\n",
       "2413     1.234487\n",
       "2414     1.866881\n",
       "2415     4.407290\n",
       "Name: value, Length: 2416, dtype: float64"
      ]
     },
     "execution_count": 13,
     "metadata": {},
     "output_type": "execute_result"
    }
   ],
   "source": [
    "pd.DataFrame(event_data.Scalars(keys[0])).value"
   ]
  },
  {
   "cell_type": "code",
   "execution_count": 16,
   "metadata": {},
   "outputs": [
    {
     "name": "stdout",
     "output_type": "stream",
     "text": [
      "/path/to/your\n"
     ]
    }
   ],
   "source": [
    "import os\n",
    "\n",
    "# Specify the path of the file\n",
    "file_path = '/path/to/your/file.txt'\n",
    "\n",
    "# Get the directory path of the file\n",
    "directory_path = os.path.dirname(file_path)\n",
    "\n",
    "print(directory_path)\n"
   ]
  },
  {
   "cell_type": "code",
   "execution_count": 12,
   "metadata": {},
   "outputs": [
    {
     "name": "stdout",
     "output_type": "stream",
     "text": [
      "<class '__main__.A'>\n",
      "<class '__main__.state'>\n"
     ]
    }
   ],
   "source": [
    "\n",
    "class A:\n",
    "    def __init__(self) -> None:\n",
    "        self.apple = 0\n",
    "        pass\n",
    "\n",
    "class state:\n",
    "    def __init__(self, seed) -> None:\n",
    "        assert type(seed) == int, \"Fuck\"\n",
    "        self.arm = 0\n",
    "\n",
    "ob = state(123)\n",
    "ob.b = 0\n",
    "ob.b\n",
    "\n",
    "a = A()\n",
    "print(type(a))\n",
    "print(type(ob))"
   ]
  },
  {
   "cell_type": "code",
   "execution_count": 3,
   "metadata": {},
   "outputs": [
    {
     "name": "stdout",
     "output_type": "stream",
     "text": [
      "2.0\n"
     ]
    }
   ],
   "source": [
    "import math\n",
    "\n",
    "# 計算以 10 為底的對數\n",
    "result = math.log10(100)  # log10 函數表示以 10 為底的對數\n",
    "print(result)\n"
   ]
  },
  {
   "cell_type": "code",
   "execution_count": 5,
   "metadata": {},
   "outputs": [
    {
     "name": "stdout",
     "output_type": "stream",
     "text": [
      "42.0 不是整數\n"
     ]
    }
   ],
   "source": [
    "# 假設 x 是你的變數\n",
    "x = 42.0  # 或其他數字\n",
    "\n",
    "# 確認 x 是否為整數\n",
    "if isinstance(x, int):\n",
    "    print(f\"{x} 是整數\")\n",
    "else:\n",
    "    print(f\"{x} 不是整數\")\n"
   ]
  },
  {
   "cell_type": "code",
   "execution_count": 1,
   "metadata": {},
   "outputs": [
    {
     "name": "stdout",
     "output_type": "stream",
     "text": [
      "Y\n"
     ]
    }
   ],
   "source": [
    "import math\n",
    "\n",
    "# 假設你有一個數字 x\n",
    "x = 10\n",
    "\n",
    "math.log\n",
    "# 確認結果是否為整數\n",
    "if math.log10(x).is_integer():\n",
    "    print(\"Y\")\n",
    "    # print(f\"{x}的對數是整數: {int(log_result)}\")\n",
    "else:\n",
    "    print(\"N\")\n",
    "    # print(f\"{x}的對數不是整數: {log_result}\")\n"
   ]
  },
  {
   "cell_type": "code",
   "execution_count": 7,
   "metadata": {},
   "outputs": [
    {
     "data": {
      "text/plain": [
       "5485"
      ]
     },
     "execution_count": 7,
     "metadata": {},
     "output_type": "execute_result"
    }
   ],
   "source": [
    "b = list(range(1100))\n",
    "sum(b[-5:])"
   ]
  },
  {
   "cell_type": "code",
   "execution_count": 1,
   "metadata": {},
   "outputs": [
    {
     "name": "stdout",
     "output_type": "stream",
     "text": [
      "__init__\n",
      "in __enter__\n",
      "run some shit\n",
      "in __exit__\n"
     ]
    }
   ],
   "source": [
    "class Sample:\n",
    "    def __init__(self, a, b):\n",
    "        self.a = a\n",
    "        self.b = b\n",
    "        print(\"__init__\")\n",
    "        \n",
    "    def __enter__(self):\n",
    "        add(self.a, self.b)\n",
    "        print(\"in __enter__\")\n",
    "        return \"Foo\"\n",
    "    def __exit__(self, exc_type, exc_val, exc_tb):\n",
    "        print(\"in __exit__\")\n",
    "        \n",
    "def add(a, b):\n",
    "    return a + b\n",
    "\n",
    "\n",
    "def get_sample(a, b):\n",
    "    return Sample(a, b)\n",
    "A = 1\n",
    "B = 2\n",
    "\n",
    "\n",
    "with get_sample(A, B) as sample:\n",
    "    # print(\"Sample: \", sample)\n",
    "    print(\"run some shit\")"
   ]
  },
  {
   "cell_type": "code",
   "execution_count": 8,
   "metadata": {},
   "outputs": [
    {
     "name": "stdout",
     "output_type": "stream",
     "text": [
      "in enter\n",
      "a\n",
      "in exit\n",
      "type:  <class 'ZeroDivisionError'>\n",
      "val:  division by zero\n",
      "tb:  <traceback object at 0x7f8d3cafdf00>\n"
     ]
    },
    {
     "ename": "ZeroDivisionError",
     "evalue": "division by zero",
     "output_type": "error",
     "traceback": [
      "\u001b[0;31m---------------------------------------------------------------------------\u001b[0m",
      "\u001b[0;31mZeroDivisionError\u001b[0m                         Traceback (most recent call last)",
      "Cell \u001b[0;32mIn[8], line 17\u001b[0m\n\u001b[1;32m     15\u001b[0m \u001b[38;5;28;01mwith\u001b[39;00m Sample() \u001b[38;5;28;01mas\u001b[39;00m sample:\n\u001b[1;32m     16\u001b[0m     \u001b[38;5;28mprint\u001b[39m(\u001b[38;5;124m\"\u001b[39m\u001b[38;5;124ma\u001b[39m\u001b[38;5;124m\"\u001b[39m)\n\u001b[0;32m---> 17\u001b[0m     \u001b[43msample\u001b[49m\u001b[38;5;241;43m.\u001b[39;49m\u001b[43mdo_something\u001b[49m\u001b[43m(\u001b[49m\u001b[43m)\u001b[49m\n",
      "Cell \u001b[0;32mIn[8], line 13\u001b[0m, in \u001b[0;36mSample.do_something\u001b[0;34m(self)\u001b[0m\n\u001b[1;32m     12\u001b[0m \u001b[38;5;28;01mdef\u001b[39;00m \u001b[38;5;21mdo_something\u001b[39m(\u001b[38;5;28mself\u001b[39m):\n\u001b[0;32m---> 13\u001b[0m     bar \u001b[38;5;241m=\u001b[39m \u001b[38;5;241;43m1\u001b[39;49m\u001b[43m \u001b[49m\u001b[38;5;241;43m/\u001b[39;49m\u001b[43m \u001b[49m\u001b[38;5;241;43m0\u001b[39;49m\n\u001b[1;32m     14\u001b[0m     \u001b[38;5;28;01mreturn\u001b[39;00m bar \u001b[38;5;241m+\u001b[39m \u001b[38;5;241m10\u001b[39m\n",
      "\u001b[0;31mZeroDivisionError\u001b[0m: division by zero"
     ]
    }
   ],
   "source": [
    "class Sample():\n",
    "    def __enter__(self):\n",
    "        print('in enter')\n",
    "        return self\n",
    "    def __exit__(self, exc_type, exc_val, exc_tb):\n",
    "        print('in exit')\n",
    "        \n",
    "        if exc_type != None:\n",
    "            print(\"type: \", exc_type)\n",
    "            print(\"val: \", exc_val)\n",
    "            print(\"tb: \", exc_tb)\n",
    "    def do_something(self):\n",
    "        bar = 1 / 0\n",
    "        return bar + 10\n",
    "with Sample() as sample:\n",
    "    print(\"a\")\n",
    "    sample.do_something()"
   ]
  },
  {
   "cell_type": "code",
   "execution_count": 25,
   "metadata": {},
   "outputs": [],
   "source": [
    "import pandas as pd\n",
    "\n",
    "def save_reward_as_csv(List, log_dir=\"\"):\n",
    "    df = pd.DataFrame(List)\n",
    "    df = df.set_axis(['duration', 'reward'], axis=1)\n",
    "    df.to_csv(f\"{log_dir}/monitor.csv\", index=False)\n",
    "\n",
    "a_list = []\n",
    "\n",
    "log_dir = \"./logs\"\n",
    "\n",
    "for i in range(100):\n",
    "    a_list.append([i, i*10])\n",
    "    \n",
    "    if i % 10 == 0:\n",
    "        \n",
    "        save_reward_as_csv(a_list, log_dir=log_dir)\n",
    "\n",
    "        df = pd.DataFrame(a_list)\n",
    "        # df.columns.rename({\"a\", \"b\"})\n",
    "        # df.rename(\"reward\")\n",
    "        # print(df)\n",
    "    "
   ]
  },
  {
   "cell_type": "code",
   "execution_count": 23,
   "metadata": {},
   "outputs": [
    {
     "data": {
      "text/html": [
       "<div>\n",
       "<style scoped>\n",
       "    .dataframe tbody tr th:only-of-type {\n",
       "        vertical-align: middle;\n",
       "    }\n",
       "\n",
       "    .dataframe tbody tr th {\n",
       "        vertical-align: top;\n",
       "    }\n",
       "\n",
       "    .dataframe thead th {\n",
       "        text-align: right;\n",
       "    }\n",
       "</style>\n",
       "<table border=\"1\" class=\"dataframe\">\n",
       "  <thead>\n",
       "    <tr style=\"text-align: right;\">\n",
       "      <th></th>\n",
       "      <th>V</th>\n",
       "      <th>W</th>\n",
       "    </tr>\n",
       "  </thead>\n",
       "  <tbody>\n",
       "    <tr>\n",
       "      <th>0</th>\n",
       "      <td>0</td>\n",
       "      <td>0</td>\n",
       "    </tr>\n",
       "    <tr>\n",
       "      <th>1</th>\n",
       "      <td>1</td>\n",
       "      <td>10</td>\n",
       "    </tr>\n",
       "    <tr>\n",
       "      <th>2</th>\n",
       "      <td>2</td>\n",
       "      <td>20</td>\n",
       "    </tr>\n",
       "    <tr>\n",
       "      <th>3</th>\n",
       "      <td>3</td>\n",
       "      <td>30</td>\n",
       "    </tr>\n",
       "    <tr>\n",
       "      <th>4</th>\n",
       "      <td>4</td>\n",
       "      <td>40</td>\n",
       "    </tr>\n",
       "    <tr>\n",
       "      <th>...</th>\n",
       "      <td>...</td>\n",
       "      <td>...</td>\n",
       "    </tr>\n",
       "    <tr>\n",
       "      <th>86</th>\n",
       "      <td>86</td>\n",
       "      <td>860</td>\n",
       "    </tr>\n",
       "    <tr>\n",
       "      <th>87</th>\n",
       "      <td>87</td>\n",
       "      <td>870</td>\n",
       "    </tr>\n",
       "    <tr>\n",
       "      <th>88</th>\n",
       "      <td>88</td>\n",
       "      <td>880</td>\n",
       "    </tr>\n",
       "    <tr>\n",
       "      <th>89</th>\n",
       "      <td>89</td>\n",
       "      <td>890</td>\n",
       "    </tr>\n",
       "    <tr>\n",
       "      <th>90</th>\n",
       "      <td>90</td>\n",
       "      <td>900</td>\n",
       "    </tr>\n",
       "  </tbody>\n",
       "</table>\n",
       "<p>91 rows × 2 columns</p>\n",
       "</div>"
      ],
      "text/plain": [
       "     V    W\n",
       "0    0    0\n",
       "1    1   10\n",
       "2    2   20\n",
       "3    3   30\n",
       "4    4   40\n",
       "..  ..  ...\n",
       "86  86  860\n",
       "87  87  870\n",
       "88  88  880\n",
       "89  89  890\n",
       "90  90  900\n",
       "\n",
       "[91 rows x 2 columns]"
      ]
     },
     "execution_count": 23,
     "metadata": {},
     "output_type": "execute_result"
    }
   ],
   "source": [
    "# df.rename(columns={'0': 'Full Name', \"1\": \"R\"}, inplace=True)\n",
    "df\n",
    "df = df.set_axis(['V', 'W'], axis=1)\n",
    "df"
   ]
  },
  {
   "cell_type": "code",
   "execution_count": 11,
   "metadata": {},
   "outputs": [
    {
     "ename": "TypeError",
     "evalue": "can't set attributes of built-in/extension type 'object'",
     "output_type": "error",
     "traceback": [
      "\u001b[0;31m---------------------------------------------------------------------------\u001b[0m",
      "\u001b[0;31mTypeError\u001b[0m                                 Traceback (most recent call last)",
      "Cell \u001b[0;32mIn[11], line 2\u001b[0m\n\u001b[1;32m      1\u001b[0m ap \u001b[38;5;241m=\u001b[39m \u001b[38;5;28mobject\u001b[39m\n\u001b[0;32m----> 2\u001b[0m \u001b[43map\u001b[49m\u001b[38;5;241;43m.\u001b[39;49m\u001b[43mb\u001b[49m \u001b[38;5;241m=\u001b[39m \u001b[38;5;241m0\u001b[39m\n\u001b[1;32m      3\u001b[0m ap\u001b[38;5;241m.\u001b[39mb\n",
      "\u001b[0;31mTypeError\u001b[0m: can't set attributes of built-in/extension type 'object'"
     ]
    }
   ],
   "source": [
    "ap = object()\n",
    "ap.b = 0\n",
    "ap.b\n"
   ]
  },
  {
   "cell_type": "code",
   "execution_count": 14,
   "metadata": {},
   "outputs": [
    {
     "name": "stdout",
     "output_type": "stream",
     "text": [
      "None\n"
     ]
    }
   ],
   "source": [
    "class obvervation:\n",
    "    def __init__(self) -> None:\n",
    "        self.arm = None\n",
    "        self.cam = None\n",
    "        self.interact_object = None\n",
    "\n",
    "ob = obvervation()\n",
    "print(ob.arm)"
   ]
  },
  {
   "cell_type": "code",
   "execution_count": 35,
   "metadata": {},
   "outputs": [
    {
     "data": {
      "text/plain": [
       "[0, 1, 2]"
      ]
     },
     "execution_count": 35,
     "metadata": {},
     "output_type": "execute_result"
    }
   ],
   "source": [
    "J = [0, 1, 2]\n",
    "P = [5, 6, 7]\n",
    "obvervation.arm = {\"joint_angle\" : J,\n",
    "                        \"end_point\" : P}\n",
    "obvervation.arm[\"joint_angle\"]"
   ]
  },
  {
   "cell_type": "code",
   "execution_count": 45,
   "metadata": {},
   "outputs": [
    {
     "name": "stdout",
     "output_type": "stream",
     "text": [
      "[0, 1, 2] [5, 6, 7]\n"
     ]
    }
   ],
   "source": [
    "aadf = obvervation.arm.keys()\n",
    "# aadf[0]\n",
    "\n",
    "a = list(obvervation.arm.values())\n",
    "print(*a)"
   ]
  },
  {
   "cell_type": "code",
   "execution_count": 44,
   "metadata": {},
   "outputs": [
    {
     "name": "stdout",
     "output_type": "stream",
     "text": [
      "[[1, 2, 3], [6, 7, 8]]\n",
      "[1, 2, 3]\n",
      "[[1, 2, 3], [6, 7, 8], 1, 2, 3]\n"
     ]
    }
   ],
   "source": [
    "a = [1, 2, 3]\n",
    "b = [6, 7, 8]\n",
    "c = [a, b]\n",
    "c = [c, a]\n",
    "\n",
    "# 將列表c中的元素逐層添加到一個新列表中\n",
    "result = []\n",
    "for sublist in c:\n",
    "    result.extend(sublist)\n",
    "    print(sublist)\n",
    "\n",
    "print(result)\n"
   ]
  },
  {
   "cell_type": "code",
   "execution_count": 46,
   "metadata": {},
   "outputs": [],
   "source": [
    "def unzip_list(key_list):\n",
    "    result = []\n",
    "    for sublist in key_list:\n",
    "        result.extend(sublist)\n",
    "    \n",
    "    return result\n"
   ]
  },
  {
   "cell_type": "code",
   "execution_count": 48,
   "metadata": {},
   "outputs": [
    {
     "data": {
      "text/plain": [
       "[0, 1, 2, 5, 6, 7]"
      ]
     },
     "execution_count": 48,
     "metadata": {},
     "output_type": "execute_result"
    }
   ],
   "source": [
    "a = [1, 2, 3]\n",
    "b = [6, 7, 8]\n",
    "c = [a, b]\n",
    "\n",
    "d = unzip_list(list(obvervation.arm.values()))\n",
    "d"
   ]
  },
  {
   "cell_type": "code",
   "execution_count": 66,
   "metadata": {},
   "outputs": [
    {
     "data": {
      "text/plain": [
       "[[0, 1, 2], [5, 6, 7], [1, 2, 3]]"
      ]
     },
     "execution_count": 66,
     "metadata": {},
     "output_type": "execute_result"
    }
   ],
   "source": [
    "app = list(obvervation.arm.values())\n",
    "app.append(a)\n",
    "app"
   ]
  },
  {
   "cell_type": "code",
   "execution_count": 69,
   "metadata": {},
   "outputs": [
    {
     "name": "stdout",
     "output_type": "stream",
     "text": [
      "no\n"
     ]
    }
   ],
   "source": [
    "def is_bigger(a, b):\n",
    "    c = a + b\n",
    "    return a > b\n",
    "\n",
    "a = 3\n",
    "b = 5\n",
    "if is_bigger(a, b):\n",
    "    print(\"yes\")\n",
    "else:\n",
    "    print(\"no\")"
   ]
  },
  {
   "cell_type": "code",
   "execution_count": 72,
   "metadata": {},
   "outputs": [
    {
     "data": {
      "text/plain": [
       "array([ 7,  9, 11])"
      ]
     },
     "execution_count": 72,
     "metadata": {},
     "output_type": "execute_result"
    }
   ],
   "source": [
    "import numpy as np\n",
    "a = [1, 2, 3]\n",
    "b = [6, 7, 8]\n",
    "a_np = np.asarray(a)\n",
    "b_np = np.asarray(b)\n",
    "a_np + b_np\n"
   ]
  },
  {
   "cell_type": "code",
   "execution_count": null,
   "metadata": {},
   "outputs": [],
   "source": []
  },
  {
   "cell_type": "code",
   "execution_count": 57,
   "metadata": {},
   "outputs": [
    {
     "data": {
      "text/plain": [
       "[[1, 2, 3], [6, 7, 8], [1, 2, 3]]"
      ]
     },
     "execution_count": 57,
     "metadata": {},
     "output_type": "execute_result"
    }
   ],
   "source": [
    "a = [1, 2, 3]\n",
    "b = [6, 7, 8]\n",
    "c = [a, b]\n",
    "c.append(a)\n",
    "c"
   ]
  },
  {
   "cell_type": "code",
   "execution_count": 52,
   "metadata": {},
   "outputs": [
    {
     "name": "stdout",
     "output_type": "stream",
     "text": [
      "None\n"
     ]
    }
   ],
   "source": [
    "d = c.extend(a)\n",
    "print(d)"
   ]
  },
  {
   "cell_type": "code",
   "execution_count": 74,
   "metadata": {},
   "outputs": [
    {
     "data": {
      "text/plain": [
       "array([2, 4, 6])"
      ]
     },
     "execution_count": 74,
     "metadata": {},
     "output_type": "execute_result"
    }
   ],
   "source": [
    "a = {\"arm\": np.asarray([1, 2, 3]),\n",
    "     \"brm\": np.asarray([1, 2, 3])\n",
    "     }\n",
    "a[\"arm\"] + a[\"brm\"]"
   ]
  },
  {
   "cell_type": "code",
   "execution_count": 75,
   "metadata": {},
   "outputs": [
    {
     "data": {
      "text/plain": [
       "0"
      ]
     },
     "execution_count": 75,
     "metadata": {},
     "output_type": "execute_result"
    }
   ],
   "source": [
    "import random\n",
    "random.randint(0, 1)"
   ]
  },
  {
   "cell_type": "code",
   "execution_count": 83,
   "metadata": {},
   "outputs": [
    {
     "name": "stdout",
     "output_type": "stream",
     "text": [
      "0\n",
      "2\n",
      "2\n",
      "1\n",
      "0\n",
      "2\n",
      "2\n",
      "0\n",
      "0\n",
      "0\n"
     ]
    }
   ],
   "source": [
    "for i in range(10):\n",
    "    print(random.randint(0, 2))"
   ]
  },
  {
   "cell_type": "code",
   "execution_count": 5,
   "metadata": {},
   "outputs": [
    {
     "data": {
      "text/plain": [
       "array([ -1,  -4,  -9, -16, -25, -36, -49, -64, -81])"
      ]
     },
     "execution_count": 5,
     "metadata": {},
     "output_type": "execute_result"
    }
   ],
   "source": [
    "import numpy as np\n",
    "distance = np.asarray(list(range(1, 10)))\n",
    "reward = -  (distance ** 2     )\n",
    "reward"
   ]
  },
  {
   "cell_type": "code",
   "execution_count": null,
   "metadata": {},
   "outputs": [],
   "source": []
  },
  {
   "cell_type": "markdown",
   "metadata": {},
   "source": [
    "8\n",
    "next_position [0.29999672 0.04999859 0.50025395]\n",
    "good action\n",
    "next_state [49.99566603597112, 34.87600246113904, 0.8133948494354953, 0.00037691997724081667, 54.327615031143225, 7.537967618110623e-10, 0.41991245528957843, 0.500351648294261, 0.4396867424109242, 0.42, 0.5, 0.44]\n",
    "reward -2.2945091629307588e-07\n",
    "distance 0.0004790103509247748\n",
    "terminated True\n",
    "truncated False\n",
    "env finished\n",
    "\n",
    "\n",
    "8\n",
    "good action\n",
    "next_state [49.971372162772994, 51.672741029313116, 3.2315226445357963, 0.0005957237768675618, 35.098552377698596, -5.090876893492936e-12, 0.41998819739837934, 0.5000102821235282, 0.23995316624154994, 0.42, 0.5, 0.24]\n",
    "reward -2.4384243998215814e-09\n",
    "distance 4.938040501880864e-05\n",
    "terminated True\n",
    "truncated False\n",
    "env finished"
   ]
  },
  {
   "cell_type": "code",
   "execution_count": null,
   "metadata": {},
   "outputs": [],
   "source": [
    "-0.27 -0.74 0.04\n",
    "0.48 0.74 1"
   ]
  },
  {
   "cell_type": "code",
   "execution_count": 4,
   "metadata": {},
   "outputs": [
    {
     "data": {
      "text/plain": [
       "[-100, 0, 0]"
      ]
     },
     "execution_count": 4,
     "metadata": {},
     "output_type": "execute_result"
    }
   ],
   "source": [
    "import numpy as np\n",
    "a = [0, 1, 2]\n",
    "b = [100, 1, 2]\n",
    "a_np = np.asarray(a)\n",
    "b_np = np.asarray(b)\n",
    "(a_np - b_np).tolist()"
   ]
  },
  {
   "cell_type": "code",
   "execution_count": 7,
   "metadata": {},
   "outputs": [
    {
     "data": {
      "text/plain": [
       "[0, 1, 2, 100, 1, 2, 0, 1, 2]"
      ]
     },
     "execution_count": 7,
     "metadata": {},
     "output_type": "execute_result"
    }
   ],
   "source": [
    "def unzip_list(key_list):\n",
    "    result = []\n",
    "    for sublist in key_list:\n",
    "        result.extend(sublist)\n",
    "    \n",
    "    return result\n",
    "\n",
    "state_list = [a, b]\n",
    "state_list.append(a_np)\n",
    "\n",
    "unzip_list(state_list)\n"
   ]
  },
  {
   "cell_type": "code",
   "execution_count": 1,
   "metadata": {},
   "outputs": [],
   "source": [
    "import random\n"
   ]
  },
  {
   "cell_type": "code",
   "execution_count": 6,
   "metadata": {},
   "outputs": [],
   "source": [
    "SEED = 525\n",
    "random.seed(SEED) "
   ]
  },
  {
   "cell_type": "code",
   "execution_count": 33,
   "metadata": {},
   "outputs": [
    {
     "name": "stdout",
     "output_type": "stream",
     "text": [
      "4\n",
      "0\n",
      "3\n",
      "1\n",
      "5\n",
      "1\n",
      "4\n",
      "0\n",
      "1\n",
      "4\n"
     ]
    }
   ],
   "source": [
    "SEED = 525\n",
    "random.seed(SEED)\n",
    "for i in range(10):\n",
    "    ran = random.randint(0, 5)\n",
    "    print(ran)\n"
   ]
  }
 ],
 "metadata": {
  "kernelspec": {
   "display_name": "webots_env",
   "language": "python",
   "name": "python3"
  },
  "language_info": {
   "codemirror_mode": {
    "name": "ipython",
    "version": 3
   },
   "file_extension": ".py",
   "mimetype": "text/x-python",
   "name": "python",
   "nbconvert_exporter": "python",
   "pygments_lexer": "ipython3",
   "version": "3.8.18"
  }
 },
 "nbformat": 4,
 "nbformat_minor": 2
}
